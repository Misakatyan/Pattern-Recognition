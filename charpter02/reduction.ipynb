{
 "cells": [
  {
   "cell_type": "markdown",
   "metadata": {},
   "source": [
    "## 2.5.2"
   ]
  },
  {
   "cell_type": "markdown",
   "metadata": {},
   "source": [
    "### 2-80"
   ]
  },
  {
   "cell_type": "markdown",
   "metadata": {},
   "source": [
    "\\begin{align}\n",
    "g_{\\mathcal{i}}(x)-g_{\\mathcal{j}}(x)&=0\\\\\n",
    "\\mathbb{w}_i^T x+\\omega_{i0}-\\mathbb{w}_j^T x+\\omega_{j0}&=0\\\\\n",
    "(\\frac{1}{\\sigma^2}\\mu_i)^T x-\\frac{1}{2\\sigma^2}\\mu_i^T\\mu_i+\\ln P(\\omega_{i})-(\\dfrac{1}{\\sigma^2}\\mu_j)^T x+\\dfrac{1}{2\\sigma^2}\\mu_j^T\\mu_j+\\ln P(\\omega_{j})&=0\n",
    "\\end{align}"
   ]
  },
  {
   "cell_type": "code",
   "execution_count": null,
   "metadata": {},
   "outputs": [],
   "source": []
  }
 ],
 "metadata": {
  "language_info": {
   "name": "python"
  },
  "orig_nbformat": 4
 },
 "nbformat": 4,
 "nbformat_minor": 2
}
