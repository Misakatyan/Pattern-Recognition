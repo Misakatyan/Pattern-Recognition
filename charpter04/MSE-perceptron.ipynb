{
 "cells": [
  {
   "cell_type": "code",
   "execution_count": null,
   "metadata": {},
   "outputs": [],
   "source": [
    "from matplotlib.colors import ListedColormap\n",
    "import matplotlib.pyplot as plt\n",
    "plt.rcParams['figure.dpi']=200\n",
    "import numpy as np\n",
    "import random\n",
    "scale=0.5\n",
    "x1=np.random.normal(loc=[-1,1],scale=scale,size=[500,2])\n",
    "x2=np.random.normal(loc=[2,1],scale=scale,size=[500,2])"
   ]
  },
  {
   "cell_type": "code",
   "execution_count": null,
   "metadata": {},
   "outputs": [],
   "source": [
    "x_train=[]\n",
    "y_train=[]\n",
    "for i in range(500):\n",
    "    rand=random.random()\n",
    "    new_sample=np.random.choice(500)\n",
    "    if(rand<0.5):\n",
    "        x_train.append(x1[new_sample]+random.random()*0.25-0.125)\n",
    "        y_train.append(1)\n",
    "    else:\n",
    "        x_train.append(x2[new_sample]+random.random()*0.25-0.125)\n",
    "        y_train.append(2)\n",
    "x_train=np.array(x_train)\n",
    "x_train_new=[]\n",
    "for i in range(500):\n",
    "    temp=np.array([1,x_train[i][0],x_train[i][1]])\n",
    "    x_train_new.append(temp)\n",
    "x_train=np.array(x_train_new)\n",
    "y_train=np.array(y_train)\n",
    "x_new=np.array(x_train)\n",
    "for i in range(500):\n",
    "    if(y_train[i]==2):\n",
    "        x_new[i]=-x_new[i]\n",
    "\n",
    "omega=np.matrix([[random.random()*50-50],[random.random()*100-50],[np.random.rand()*100-50]])\n",
    "def gx(x_j):\n",
    "    return omega.T*x_j"
   ]
  }
 ],
 "metadata": {
  "kernelspec": {
   "display_name": "Python 3.7.6 ('base')",
   "language": "python",
   "name": "python3"
  },
  "language_info": {
   "name": "python",
   "version": "3.7.6"
  },
  "orig_nbformat": 4,
  "vscode": {
   "interpreter": {
    "hash": "9f698c73f3465edec4abc5d3b2974230773c01374eb5ad1b8a921ed0bbc05679"
   }
  }
 },
 "nbformat": 4,
 "nbformat_minor": 2
}
